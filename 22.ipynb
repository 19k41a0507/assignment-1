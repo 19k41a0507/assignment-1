{
  "nbformat": 4,
  "nbformat_minor": 0,
  "metadata": {
    "colab": {
      "name": "22",
      "provenance": [],
      "collapsed_sections": [],
      "authorship_tag": "ABX9TyPT1u3pCjBRjILpJCTwWdAU",
      "include_colab_link": true
    },
    "kernelspec": {
      "name": "python3",
      "display_name": "Python 3"
    }
  },
  "cells": [
    {
      "cell_type": "markdown",
      "metadata": {
        "id": "view-in-github",
        "colab_type": "text"
      },
      "source": [
        "<a href=\"https://colab.research.google.com/github/19k41a0507/assignment-1/blob/master/22.ipynb\" target=\"_parent\"><img src=\"https://colab.research.google.com/assets/colab-badge.svg\" alt=\"Open In Colab\"/></a>"
      ]
    },
    {
      "cell_type": "code",
      "metadata": {
        "id": "9NqJEa-79plw",
        "colab_type": "code",
        "colab": {
          "base_uri": "https://localhost:8080/",
          "height": 102
        },
        "outputId": "1c40b752-4fa3-4044-8d66-d4f8ae350907"
      },
      "source": [
        "#1.\n",
        "print(0.1+0.2)\n",
        "print(\"1.8\"+\"2\")\n",
        "print(87>78)\n",
        "print((0.1+0.2)==0.3)\n",
        "print(\"Predict \" \"Output\",\".....\")"
      ],
      "execution_count": null,
      "outputs": [
        {
          "output_type": "stream",
          "text": [
            "0.30000000000000004\n",
            "1.82\n",
            "True\n",
            "False\n",
            "Predict Output .....\n"
          ],
          "name": "stdout"
        }
      ]
    },
    {
      "cell_type": "code",
      "metadata": {
        "id": "q_oH2tI_BF-p",
        "colab_type": "code",
        "colab": {
          "base_uri": "https://localhost:8080/",
          "height": 51
        },
        "outputId": "31220e2e-300d-4786-ed91-9bb33c70b595"
      },
      "source": [
        "#2.\n",
        "print(\"Prints\",\"multiple\",\"messages\")\n",
        "print(\"Concentenate \"+\" two strings\")\n"
      ],
      "execution_count": null,
      "outputs": [
        {
          "output_type": "stream",
          "text": [
            "Prints multiple messages\n",
            "Concentenate  two strings\n"
          ],
          "name": "stdout"
        }
      ]
    },
    {
      "cell_type": "code",
      "metadata": {
        "id": "COtf8j7KDb4l",
        "colab_type": "code",
        "colab": {
          "base_uri": "https://localhost:8080/",
          "height": 51
        },
        "outputId": "cde06c40-fdff-4394-b5f7-568823be1b55"
      },
      "source": [
        "#3.\n",
        "print(\"ba\"+\"na\"*2)\n",
        "print(r\"c:\\naresh\\raju\\abhi\")"
      ],
      "execution_count": null,
      "outputs": [
        {
          "output_type": "stream",
          "text": [
            "banana\n",
            "c:\\naresh\\raju\\abhi\n"
          ],
          "name": "stdout"
        }
      ]
    },
    {
      "cell_type": "code",
      "metadata": {
        "id": "uTubdgtdjbHo",
        "colab_type": "code",
        "colab": {
          "base_uri": "https://localhost:8080/",
          "height": 34
        },
        "outputId": "e6931c3d-ee39-4410-9efe-db733e7fd6a8"
      },
      "source": [
        "#4. a\n",
        "'Welcome to python traing program'[-4::-4]"
      ],
      "execution_count": null,
      "outputs": [
        {
          "output_type": "execute_result",
          "data": {
            "text/plain": [
              "'g anytoW'"
            ]
          },
          "metadata": {
            "tags": []
          },
          "execution_count": 108
        }
      ]
    },
    {
      "cell_type": "code",
      "metadata": {
        "id": "s42rbXZ_AGkp",
        "colab_type": "code",
        "colab": {
          "base_uri": "https://localhost:8080/",
          "height": 34
        },
        "outputId": "d4b314e6-20f4-4a70-94a4-eb9139ae465b"
      },
      "source": [
        "#b.\n",
        "'A series of characters designated as one object know as string'[2:19:5]"
      ],
      "execution_count": null,
      "outputs": [
        {
          "output_type": "execute_result",
          "data": {
            "text/plain": [
              "'sscc'"
            ]
          },
          "metadata": {
            "tags": []
          },
          "execution_count": 109
        }
      ]
    },
    {
      "cell_type": "code",
      "metadata": {
        "id": "aaXvCKDaAG02",
        "colab_type": "code",
        "colab": {
          "base_uri": "https://localhost:8080/",
          "height": 68
        },
        "outputId": "3384f04a-cda3-48d0-8921-ce62c13ac6a1"
      },
      "source": [
        "#5.\n",
        "print('A series of characters designated as one object know as string'[::-1][4::3])\n",
        "print(\"-------\")\n",
        "print('Welcome to python traing program'[3:10][::-1])"
      ],
      "execution_count": null,
      "outputs": [
        {
          "output_type": "stream",
          "text": [
            "tswkcbe  tgestrcoeeA\n",
            "-------\n",
            "ot emoc\n"
          ],
          "name": "stdout"
        }
      ]
    },
    {
      "cell_type": "code",
      "metadata": {
        "id": "2dSukZreEEeo",
        "colab_type": "code",
        "colab": {
          "base_uri": "https://localhost:8080/",
          "height": 51
        },
        "outputId": "a901abec-0e3a-4469-ca74-0e522df79a21"
      },
      "source": [
        "#6. a\n",
        "str1=True\n",
        "x=5>3\n",
        "print(str1==x)\n",
        "y=5>8\n",
        "print(str1==y)"
      ],
      "execution_count": null,
      "outputs": [
        {
          "output_type": "stream",
          "text": [
            "True\n",
            "False\n"
          ],
          "name": "stdout"
        }
      ]
    },
    {
      "cell_type": "code",
      "metadata": {
        "id": "AL03K71-EEtv",
        "colab_type": "code",
        "colab": {
          "base_uri": "https://localhost:8080/",
          "height": 34
        },
        "outputId": "aae3058a-9030-4a0f-ebf8-c0274886e3a0"
      },
      "source": [
        "#b.\n",
        "num=7\n",
        "Name=\"Michel Jackson\"\n",
        "sear_num=Name.find('el')\n",
        "print(num>sear_num)"
      ],
      "execution_count": null,
      "outputs": [
        {
          "output_type": "stream",
          "text": [
            "True\n"
          ],
          "name": "stdout"
        }
      ]
    },
    {
      "cell_type": "code",
      "metadata": {
        "id": "poMrjEZ2FCsY",
        "colab_type": "code",
        "colab": {
          "base_uri": "https://localhost:8080/",
          "height": 34
        },
        "outputId": "1113e052-d19e-4698-8380-16561e163c45"
      },
      "source": [
        "#7.\n",
        "\"was it a car or a cat I saw\".upper()[::-1]"
      ],
      "execution_count": null,
      "outputs": [
        {
          "output_type": "execute_result",
          "data": {
            "text/plain": [
              "'WAS I TAC A RO RAC A TI SAW'"
            ]
          },
          "metadata": {
            "tags": []
          },
          "execution_count": 113
        }
      ]
    },
    {
      "cell_type": "code",
      "metadata": {
        "id": "fTpMw4D8FCwX",
        "colab_type": "code",
        "colab": {
          "base_uri": "https://localhost:8080/",
          "height": 34
        },
        "outputId": "88ce6e1c-6682-46c5-ae90-d97c0a78a1fb"
      },
      "source": [
        "#8.\n",
        "print(\"1934567\"[1:8:2])"
      ],
      "execution_count": null,
      "outputs": [
        {
          "output_type": "stream",
          "text": [
            "946\n"
          ],
          "name": "stdout"
        }
      ]
    },
    {
      "cell_type": "code",
      "metadata": {
        "id": "JYGIVqORIIcv",
        "colab_type": "code",
        "colab": {
          "base_uri": "https://localhost:8080/",
          "height": 34
        },
        "outputId": "cf3f9ab6-91ec-48ff-ef42-c72c4beda89c"
      },
      "source": [
        "#9.\n",
        "fake_phrase=\"Fake news has a knack for spreading like wildfire\"\n",
        "phrase=[\"KNACK\"[::-1],\"FOR\"[::-1],\"SPREADING\"[::-1],\"LIKE\"[::-1]]\n",
        "print(phrase[::-1])"
      ],
      "execution_count": null,
      "outputs": [
        {
          "output_type": "stream",
          "text": [
            "['EKIL', 'GNIDAERPS', 'ROF', 'KCANK']\n"
          ],
          "name": "stdout"
        }
      ]
    },
    {
      "cell_type": "code",
      "metadata": {
        "id": "8LWgdAQ_Nrkb",
        "colab_type": "code",
        "colab": {
          "base_uri": "https://localhost:8080/",
          "height": 34
        },
        "outputId": "f94f7998-c64d-4a1a-f1ec-0b46a2a8a20b"
      },
      "source": [
        "#10.\n",
        "a=[\"Facebook,already,uses,AI,to, Filter,Fake,stories,from,the,feeds,of,users\"]\n",
        "print(a)"
      ],
      "execution_count": null,
      "outputs": [
        {
          "output_type": "stream",
          "text": [
            "['Facebook,already,uses,AI,to, Filter,Fake,stories,from,the,feeds,of,users']\n"
          ],
          "name": "stdout"
        }
      ]
    },
    {
      "cell_type": "code",
      "metadata": {
        "id": "SH_nreIVNr14",
        "colab_type": "code",
        "colab": {}
      },
      "source": [
        "#11\n",
        "msg2=\"Welcome to sr engineering college\"\n",
        "x=msg2.count(\"o\")\n",
        "y=msg2.count(\"r\")\n",
        "msg2[y**x:(x**y+x+y):][::-1]"
      ],
      "execution_count": null,
      "outputs": []
    },
    {
      "cell_type": "code",
      "metadata": {
        "id": "GndCSPINSmlh",
        "colab_type": "code",
        "colab": {}
      },
      "source": [
        "#12 a \n",
        "num1,num2=\"94\",\"30\"\n",
        "data=\"As per Census 2011, Gender ratio of India is 943 females per 1000 males\"\n",
        "num1+num2[0] in data\n"
      ],
      "execution_count": null,
      "outputs": []
    },
    {
      "cell_type": "code",
      "metadata": {
        "id": "m-GwGr_mSmzh",
        "colab_type": "code",
        "colab": {}
      },
      "source": [
        "#b.\n",
        "num1,num2=\"94\",\"30\"\n",
        "data=\"As per Census 2011, Gender ratio of India is 943 females per 1000 males\"\n",
        "print(data[:45],print(int(num1)+int(num2)))"
      ],
      "execution_count": null,
      "outputs": []
    },
    {
      "cell_type": "code",
      "metadata": {
        "id": "60ISj2OzU-kS",
        "colab_type": "code",
        "colab": {}
      },
      "source": [
        "#13\n",
        "M=float(input('Enter amount of water in kg = '))\n",
        "initialtemp=float(input('Enter initial temperature of water = '))\n",
        "finaltemp=float(input('Enter final temperature of water = '))\n",
        "Q = M * (finaltemp - initialtemp) * 4184\n",
        "print(f'Energy needed to heat water = {Q} joules')"
      ],
      "execution_count": null,
      "outputs": []
    },
    {
      "cell_type": "code",
      "metadata": {
        "id": "zJPrbXAPU-23",
        "colab_type": "code",
        "colab": {}
      },
      "source": [
        "#4.\n",
        "x=int(input('x='))\n",
        "X='Z'*x\n",
        "Y='O'*x*2\n",
        "print(X+Y)"
      ],
      "execution_count": null,
      "outputs": []
    },
    {
      "cell_type": "code",
      "metadata": {
        "id": "Rmmt4cNCVABH",
        "colab_type": "code",
        "colab": {}
      },
      "source": [
        "#5.\n",
        "x=int(input('Enter 1st number = '))\n",
        "y=int(input('Enter 2nd number = '))\n",
        "pow=x**y\n",
        "div=x//y\n",
        "s=div^(x+y)\n",
        "print(pow)\n",
        "print(div)\n",
        "print(s)"
      ],
      "execution_count": null,
      "outputs": []
    }
  ]
}